{
  "nbformat": 4,
  "nbformat_minor": 0,
  "metadata": {
    "colab": {
      "provenance": []
    },
    "kernelspec": {
      "name": "python3",
      "display_name": "Python 3"
    },
    "language_info": {
      "name": "python"
    }
  },
  "cells": [
    {
      "cell_type": "code",
      "execution_count": null,
      "metadata": {
        "colab": {
          "base_uri": "https://localhost:8080/"
        },
        "id": "ZtG9NCiiGsHy",
        "outputId": "4919eaf7-e0ad-4a0a-8945-5e55d31f2394"
      },
      "outputs": [
        {
          "output_type": "stream",
          "name": "stdout",
          "text": [
            "Generated text: The quick brown fox jumps over the lazy dog. The fox is quick. The lazy dog sleeps.\n"
          ]
        }
      ],
      "source": [
        "import random\n",
        "\n",
        "class MarkovAutoFill:\n",
        "    def __init__(self, order=2):\n",
        "        self.order = order\n",
        "        self.chain = {}\n",
        "\n",
        "    def train(self, text):\n",
        "        words = text.split()\n",
        "        for i in range(len(words) - self.order):\n",
        "            prefix = tuple(words[i:i + self.order])\n",
        "            suffix = words[i + self.order]\n",
        "            if prefix not in self.chain:\n",
        "                self.chain[prefix] = {}\n",
        "            if suffix not in self.chain[prefix]:\n",
        "                self.chain[prefix][suffix] = 0\n",
        "            self.chain[prefix][suffix] += 1\n",
        "\n",
        "    def generate_next_word(self, prefix):\n",
        "        if prefix in self.chain:\n",
        "            choices = list(self.chain[prefix].keys())\n",
        "            weights = list(self.chain[prefix].values())\n",
        "            return random.choices(choices, weights=weights)[0]\n",
        "        else:\n",
        "            return None\n",
        "\n",
        "    def generate_text(self, start_phrase, max_length=100):\n",
        "      words = start_phrase.split()\n",
        "      if len(words) < self.order:\n",
        "          prefix = tuple(words)\n",
        "          result = list(words)\n",
        "      else:\n",
        "          prefix = tuple(words[-self.order:])\n",
        "          result = words[:self.order]\n",
        "\n",
        "      for _ in range(max_length):\n",
        "          next_word = self.generate_next_word(prefix)\n",
        "          if next_word is None:\n",
        "              break\n",
        "          result.append(next_word)\n",
        "          prefix = tuple(result[-self.order:])\n",
        "\n",
        "      return ' '.join(result)\n",
        "\n",
        "\n",
        "# Example usage:\n",
        "if __name__ == \"__main__\":\n",
        "    corpus = \"The quick brown fox jumps over the lazy dog. The fox is quick. The lazy dog sleeps.\"\n",
        "    auto_fill = MarkovAutoFill(order=2)\n",
        "    auto_fill.train(corpus)\n",
        "\n",
        "    start_phrase = \"The quick\"\n",
        "    generated_text = auto_fill.generate_text(start_phrase, max_length=20)\n",
        "    print(\"Generated text:\", generated_text)\n"
      ]
    },
    {
      "cell_type": "code",
      "source": [
        "auto_fill.chain"
      ],
      "metadata": {
        "colab": {
          "base_uri": "https://localhost:8080/"
        },
        "id": "QEDG3qcsGvvK",
        "outputId": "6a8a8d34-c18a-410c-9ac8-d08834eaf9da"
      },
      "execution_count": null,
      "outputs": [
        {
          "output_type": "execute_result",
          "data": {
            "text/plain": [
              "{('The', 'quick'): {'brown': 1},\n",
              " ('quick', 'brown'): {'fox': 1},\n",
              " ('brown', 'fox'): {'jumps': 1},\n",
              " ('fox', 'jumps'): {'over': 1},\n",
              " ('jumps', 'over'): {'the': 1},\n",
              " ('over', 'the'): {'lazy': 1},\n",
              " ('the', 'lazy'): {'dog.': 1},\n",
              " ('lazy', 'dog.'): {'The': 1},\n",
              " ('dog.', 'The'): {'fox': 1},\n",
              " ('The', 'fox'): {'is': 1},\n",
              " ('fox', 'is'): {'quick.': 1},\n",
              " ('is', 'quick.'): {'The': 1},\n",
              " ('quick.', 'The'): {'lazy': 1},\n",
              " ('The', 'lazy'): {'dog': 1},\n",
              " ('lazy', 'dog'): {'sleeps.': 1}}"
            ]
          },
          "metadata": {},
          "execution_count": 2
        }
      ]
    },
    {
      "cell_type": "code",
      "source": [
        "start_phrase = \"The fox\"\n",
        "generated_text = auto_fill.generate_text(start_phrase, max_length=20)\n",
        "print(\"Generated text:\", generated_text)"
      ],
      "metadata": {
        "colab": {
          "base_uri": "https://localhost:8080/"
        },
        "id": "uArzakF2G0wa",
        "outputId": "efb74524-3876-49d7-b118-3da67ada014e"
      },
      "execution_count": null,
      "outputs": [
        {
          "output_type": "stream",
          "name": "stdout",
          "text": [
            "Generated text: The fox is quick. The lazy dog sleeps.\n"
          ]
        }
      ]
    },
    {
      "cell_type": "code",
      "source": [
        "start_phrase = \"lazy dog\"\n",
        "generated_text = auto_fill.generate_text(start_phrase, max_length=20)\n",
        "print(\"Generated text:\", generated_text)"
      ],
      "metadata": {
        "colab": {
          "base_uri": "https://localhost:8080/"
        },
        "id": "IZbrZFVqG3dS",
        "outputId": "1638ffa6-1eaa-4279-9374-91f0af19716b"
      },
      "execution_count": null,
      "outputs": [
        {
          "output_type": "stream",
          "name": "stdout",
          "text": [
            "Generated text: lazy dog sleeps.\n"
          ]
        }
      ]
    },
    {
      "cell_type": "code",
      "source": [
        "if __name__ == \"__main__\":\n",
        "    corpus = \"Provide a command-line interface. Create a simple web application for interaction.\"\n",
        "    auto_fill = MarkovAutoFill(order=1)\n",
        "    auto_fill.train(corpus)\n",
        "\n",
        "    start_phrase = \"Create\"\n",
        "    generated_text = auto_fill.generate_text(start_phrase, max_length=20)\n",
        "    print(\"Generated text:\", generated_text)"
      ],
      "metadata": {
        "colab": {
          "base_uri": "https://localhost:8080/"
        },
        "id": "QRcMkNRnG7w0",
        "outputId": "56f9ba00-88a7-4057-94f9-e7c788c4d04f"
      },
      "execution_count": null,
      "outputs": [
        {
          "output_type": "stream",
          "name": "stdout",
          "text": [
            "Generated text: Create a simple web application for interaction.\n"
          ]
        }
      ]
    },
    {
      "cell_type": "code",
      "source": [
        "if __name__ == \"__main__\":\n",
        "    corpus = \"Provide a command-line interface. Create a simple web application for interaction.\"\n",
        "    auto_fill = MarkovAutoFill(order=2)\n",
        "    auto_fill.train(corpus)\n",
        "\n",
        "    start_phrase = \"Provide a\"\n",
        "    generated_text = auto_fill.generate_text(start_phrase, max_length=20)\n",
        "    print(\"Generated text:\", generated_text)"
      ],
      "metadata": {
        "colab": {
          "base_uri": "https://localhost:8080/"
        },
        "id": "zsr9PgRxG-rO",
        "outputId": "f7b21d38-bc16-40a7-f1e2-91b1ec7046bf"
      },
      "execution_count": null,
      "outputs": [
        {
          "output_type": "stream",
          "name": "stdout",
          "text": [
            "Generated text: Provide a command-line interface. Create a simple web application for interaction.\n"
          ]
        }
      ]
    },
    {
      "cell_type": "code",
      "source": [
        "if __name__ == \"__main__\":\n",
        "    corpus = \"Provide a command-line interface. Create a simple web application for interaction.\"\n",
        "    auto_fill = MarkovAutoFill(order=3)\n",
        "    auto_fill.train(corpus)\n",
        "\n",
        "    start_phrase = \"command-line interface\"\n",
        "    generated_text = auto_fill.generate_text(start_phrase, max_length=20)\n",
        "    print(\"Generated text:\", generated_text)"
      ],
      "metadata": {
        "colab": {
          "base_uri": "https://localhost:8080/"
        },
        "id": "vj76BK03HClM",
        "outputId": "cba85167-1c96-41ec-e7d2-6f0622149f52"
      },
      "execution_count": null,
      "outputs": [
        {
          "output_type": "stream",
          "name": "stdout",
          "text": [
            "Generated text: command-line interface\n"
          ]
        }
      ]
    },
    {
      "cell_type": "code",
      "source": [
        "if __name__ == \"__main__\":\n",
        "    corpus = \"The old man sat on the porch, watching the sunset paint the sky in vibrant hues of orange and purple.\"\n",
        "    auto_fill = MarkovAutoFill(order=1)\n",
        "    auto_fill.train(corpus)\n",
        "\n",
        "    start_phrase = \"watching\"\n",
        "    generated_text = auto_fill.generate_text(start_phrase, max_length=20)\n",
        "    print(\"Generated text:\", generated_text)"
      ],
      "metadata": {
        "colab": {
          "base_uri": "https://localhost:8080/"
        },
        "id": "IPISslZKHJ6v",
        "outputId": "54089bc9-f69e-4bc6-e68c-1c110bdecaeb"
      },
      "execution_count": null,
      "outputs": [
        {
          "output_type": "stream",
          "name": "stdout",
          "text": [
            "Generated text: watching the sunset paint the sky in vibrant hues of orange and purple.\n"
          ]
        }
      ]
    },
    {
      "cell_type": "code",
      "source": [
        "if __name__ == \"__main__\":\n",
        "    corpus = \"A shimmering dragon soared through the crystal-clear sky, leaving a trail of sparkling dust in its wake.\"\n",
        "    auto_fill = MarkovAutoFill(order=2)\n",
        "    auto_fill.train(corpus)\n",
        "\n",
        "    start_phrase = \"dragon soared\"\n",
        "    generated_text = auto_fill.generate_text(start_phrase, max_length=20)\n",
        "    print(\"Generated text:\", generated_text)"
      ],
      "metadata": {
        "id": "9ld3FwLMHLoe",
        "outputId": "716ce2aa-a554-42a0-a9bd-6faaab79637d",
        "colab": {
          "base_uri": "https://localhost:8080/"
        }
      },
      "execution_count": null,
      "outputs": [
        {
          "output_type": "stream",
          "name": "stdout",
          "text": [
            "Generated text: dragon soared through the crystal-clear sky, leaving a trail of sparkling dust in its wake.\n"
          ]
        }
      ]
    }
  ]
}